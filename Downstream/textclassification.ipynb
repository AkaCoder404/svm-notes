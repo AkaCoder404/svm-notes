{
 "cells": [
  {
   "cell_type": "markdown",
   "metadata": {},
   "source": [
    "# Text Classification with SVM\n",
    "Source: https://www.kaggle.com/datasets/datatattle/covid-19-nlp-text-classification\n",
    "\n",
    "I want to compare SVM with other Machine Learning and DNN methods.\n",
    "\n",
    "## SVM"
   ]
  },
  {
   "cell_type": "code",
   "execution_count": 19,
   "metadata": {},
   "outputs": [
    {
     "name": "stderr",
     "output_type": "stream",
     "text": [
      "[nltk_data] Downloading package stopwords to data/nltk_data...\n",
      "[nltk_data]   Package stopwords is already up-to-date!\n",
      "[nltk_data] Downloading package punkt to data/nltk_data...\n",
      "[nltk_data]   Package punkt is already up-to-date!\n",
      "[nltk_data] Downloading package wordnet to data/nltk_data...\n",
      "[nltk_data]   Package wordnet is already up-to-date!\n"
     ]
    }
   ],
   "source": [
    "import re\n",
    "import pandas as pd\n",
    "import joblib\n",
    "from pandas.core.series import Series\n",
    "from time import time\n",
    "import matplotlib.pyplot as plt \n",
    "import numpy as np\n",
    "import seaborn as sns\n",
    "\n",
    "import nltk\n",
    "from nltk.tokenize import word_tokenize\n",
    "from nltk.corpus import stopwords\n",
    "from nltk.stem import WordNetLemmatizer\n",
    "nltk.download('stopwords', download_dir='data/nltk_data')\n",
    "nltk.download('punkt', download_dir='data/nltk_data')\n",
    "nltk.download('wordnet', download_dir='data/nltk_data')\n",
    "\n",
    "nltk.data.path.append('data/nltk_data')\n",
    "\n",
    "from sklearn.svm import SVC\n",
    "from sklearn.metrics import accuracy_score, classification_report, confusion_matrix\n",
    "from sklearn.model_selection import GridSearchCV"
   ]
  },
  {
   "cell_type": "code",
   "execution_count": 2,
   "metadata": {},
   "outputs": [
    {
     "data": {
      "text/html": [
       "<div>\n",
       "<style scoped>\n",
       "    .dataframe tbody tr th:only-of-type {\n",
       "        vertical-align: middle;\n",
       "    }\n",
       "\n",
       "    .dataframe tbody tr th {\n",
       "        vertical-align: top;\n",
       "    }\n",
       "\n",
       "    .dataframe thead th {\n",
       "        text-align: right;\n",
       "    }\n",
       "</style>\n",
       "<table border=\"1\" class=\"dataframe\">\n",
       "  <thead>\n",
       "    <tr style=\"text-align: right;\">\n",
       "      <th></th>\n",
       "      <th>UserName</th>\n",
       "      <th>ScreenName</th>\n",
       "      <th>Location</th>\n",
       "      <th>TweetAt</th>\n",
       "      <th>OriginalTweet</th>\n",
       "      <th>Sentiment</th>\n",
       "    </tr>\n",
       "  </thead>\n",
       "  <tbody>\n",
       "    <tr>\n",
       "      <th>0</th>\n",
       "      <td>1</td>\n",
       "      <td>44953</td>\n",
       "      <td>NYC</td>\n",
       "      <td>02-03-2020</td>\n",
       "      <td>TRENDING: New Yorkers encounter empty supermar...</td>\n",
       "      <td>Extremely Negative</td>\n",
       "    </tr>\n",
       "    <tr>\n",
       "      <th>1</th>\n",
       "      <td>2</td>\n",
       "      <td>44954</td>\n",
       "      <td>Seattle, WA</td>\n",
       "      <td>02-03-2020</td>\n",
       "      <td>When I couldn't find hand sanitizer at Fred Me...</td>\n",
       "      <td>Positive</td>\n",
       "    </tr>\n",
       "    <tr>\n",
       "      <th>2</th>\n",
       "      <td>3</td>\n",
       "      <td>44955</td>\n",
       "      <td>NaN</td>\n",
       "      <td>02-03-2020</td>\n",
       "      <td>Find out how you can protect yourself and love...</td>\n",
       "      <td>Extremely Positive</td>\n",
       "    </tr>\n",
       "    <tr>\n",
       "      <th>3</th>\n",
       "      <td>4</td>\n",
       "      <td>44956</td>\n",
       "      <td>Chicagoland</td>\n",
       "      <td>02-03-2020</td>\n",
       "      <td>#Panic buying hits #NewYork City as anxious sh...</td>\n",
       "      <td>Negative</td>\n",
       "    </tr>\n",
       "    <tr>\n",
       "      <th>4</th>\n",
       "      <td>5</td>\n",
       "      <td>44957</td>\n",
       "      <td>Melbourne, Victoria</td>\n",
       "      <td>03-03-2020</td>\n",
       "      <td>#toiletpaper #dunnypaper #coronavirus #coronav...</td>\n",
       "      <td>Neutral</td>\n",
       "    </tr>\n",
       "  </tbody>\n",
       "</table>\n",
       "</div>"
      ],
      "text/plain": [
       "   UserName  ScreenName             Location     TweetAt  \\\n",
       "0         1       44953                  NYC  02-03-2020   \n",
       "1         2       44954          Seattle, WA  02-03-2020   \n",
       "2         3       44955                  NaN  02-03-2020   \n",
       "3         4       44956          Chicagoland  02-03-2020   \n",
       "4         5       44957  Melbourne, Victoria  03-03-2020   \n",
       "\n",
       "                                       OriginalTweet           Sentiment  \n",
       "0  TRENDING: New Yorkers encounter empty supermar...  Extremely Negative  \n",
       "1  When I couldn't find hand sanitizer at Fred Me...            Positive  \n",
       "2  Find out how you can protect yourself and love...  Extremely Positive  \n",
       "3  #Panic buying hits #NewYork City as anxious sh...            Negative  \n",
       "4  #toiletpaper #dunnypaper #coronavirus #coronav...             Neutral  "
      ]
     },
     "execution_count": 2,
     "metadata": {},
     "output_type": "execute_result"
    }
   ],
   "source": [
    "df_test = pd.read_csv('../data/covid-19-nlp-text-classification/Corona_NLP_test.csv', encoding='latin1')\n",
    "df_train = pd.read_csv('../data/covid-19-nlp-text-classification/Corona_NLP_train.csv', encoding='latin1')\n",
    "df_test.head(5)"
   ]
  },
  {
   "cell_type": "code",
   "execution_count": 3,
   "metadata": {},
   "outputs": [
    {
     "data": {
      "text/html": [
       "<div>\n",
       "<style scoped>\n",
       "    .dataframe tbody tr th:only-of-type {\n",
       "        vertical-align: middle;\n",
       "    }\n",
       "\n",
       "    .dataframe tbody tr th {\n",
       "        vertical-align: top;\n",
       "    }\n",
       "\n",
       "    .dataframe thead th {\n",
       "        text-align: right;\n",
       "    }\n",
       "</style>\n",
       "<table border=\"1\" class=\"dataframe\">\n",
       "  <thead>\n",
       "    <tr style=\"text-align: right;\">\n",
       "      <th></th>\n",
       "      <th>OriginalTweet</th>\n",
       "      <th>Sentiment</th>\n",
       "    </tr>\n",
       "  </thead>\n",
       "  <tbody>\n",
       "    <tr>\n",
       "      <th>0</th>\n",
       "      <td>TRENDING: New Yorkers encounter empty supermar...</td>\n",
       "      <td>Extremely Negative</td>\n",
       "    </tr>\n",
       "    <tr>\n",
       "      <th>1</th>\n",
       "      <td>When I couldn't find hand sanitizer at Fred Me...</td>\n",
       "      <td>Positive</td>\n",
       "    </tr>\n",
       "    <tr>\n",
       "      <th>2</th>\n",
       "      <td>Find out how you can protect yourself and love...</td>\n",
       "      <td>Extremely Positive</td>\n",
       "    </tr>\n",
       "    <tr>\n",
       "      <th>3</th>\n",
       "      <td>#Panic buying hits #NewYork City as anxious sh...</td>\n",
       "      <td>Negative</td>\n",
       "    </tr>\n",
       "    <tr>\n",
       "      <th>4</th>\n",
       "      <td>#toiletpaper #dunnypaper #coronavirus #coronav...</td>\n",
       "      <td>Neutral</td>\n",
       "    </tr>\n",
       "  </tbody>\n",
       "</table>\n",
       "</div>"
      ],
      "text/plain": [
       "                                       OriginalTweet           Sentiment\n",
       "0  TRENDING: New Yorkers encounter empty supermar...  Extremely Negative\n",
       "1  When I couldn't find hand sanitizer at Fred Me...            Positive\n",
       "2  Find out how you can protect yourself and love...  Extremely Positive\n",
       "3  #Panic buying hits #NewYork City as anxious sh...            Negative\n",
       "4  #toiletpaper #dunnypaper #coronavirus #coronav...             Neutral"
      ]
     },
     "execution_count": 3,
     "metadata": {},
     "output_type": "execute_result"
    }
   ],
   "source": [
    "# Drop unrelevent features\n",
    "unrelevant_features = [\"UserName\",\"ScreenName\",\"Location\",\"TweetAt\"]\n",
    "\n",
    "df_test.drop(unrelevant_features,inplace=True,axis=1)\n",
    "df_train.drop(unrelevant_features,inplace=True,axis=1)\n",
    "df_test.head()"
   ]
  },
  {
   "cell_type": "code",
   "execution_count": 4,
   "metadata": {},
   "outputs": [
    {
     "data": {
      "text/html": [
       "<div>\n",
       "<style scoped>\n",
       "    .dataframe tbody tr th:only-of-type {\n",
       "        vertical-align: middle;\n",
       "    }\n",
       "\n",
       "    .dataframe tbody tr th {\n",
       "        vertical-align: top;\n",
       "    }\n",
       "\n",
       "    .dataframe thead th {\n",
       "        text-align: right;\n",
       "    }\n",
       "</style>\n",
       "<table border=\"1\" class=\"dataframe\">\n",
       "  <thead>\n",
       "    <tr style=\"text-align: right;\">\n",
       "      <th></th>\n",
       "      <th>OriginalTweet</th>\n",
       "      <th>Sentiment</th>\n",
       "      <th>Sentiment_numerical</th>\n",
       "    </tr>\n",
       "  </thead>\n",
       "  <tbody>\n",
       "    <tr>\n",
       "      <th>0</th>\n",
       "      <td>TRENDING: New Yorkers encounter empty supermar...</td>\n",
       "      <td>Extremely Negative</td>\n",
       "      <td>0</td>\n",
       "    </tr>\n",
       "    <tr>\n",
       "      <th>1</th>\n",
       "      <td>When I couldn't find hand sanitizer at Fred Me...</td>\n",
       "      <td>Positive</td>\n",
       "      <td>2</td>\n",
       "    </tr>\n",
       "    <tr>\n",
       "      <th>2</th>\n",
       "      <td>Find out how you can protect yourself and love...</td>\n",
       "      <td>Extremely Positive</td>\n",
       "      <td>2</td>\n",
       "    </tr>\n",
       "    <tr>\n",
       "      <th>3</th>\n",
       "      <td>#Panic buying hits #NewYork City as anxious sh...</td>\n",
       "      <td>Negative</td>\n",
       "      <td>0</td>\n",
       "    </tr>\n",
       "    <tr>\n",
       "      <th>4</th>\n",
       "      <td>#toiletpaper #dunnypaper #coronavirus #coronav...</td>\n",
       "      <td>Neutral</td>\n",
       "      <td>1</td>\n",
       "    </tr>\n",
       "  </tbody>\n",
       "</table>\n",
       "</div>"
      ],
      "text/plain": [
       "                                       OriginalTweet           Sentiment  \\\n",
       "0  TRENDING: New Yorkers encounter empty supermar...  Extremely Negative   \n",
       "1  When I couldn't find hand sanitizer at Fred Me...            Positive   \n",
       "2  Find out how you can protect yourself and love...  Extremely Positive   \n",
       "3  #Panic buying hits #NewYork City as anxious sh...            Negative   \n",
       "4  #toiletpaper #dunnypaper #coronavirus #coronav...             Neutral   \n",
       "\n",
       "   Sentiment_numerical  \n",
       "0                    0  \n",
       "1                    2  \n",
       "2                    2  \n",
       "3                    0  \n",
       "4                    1  "
      ]
     },
     "execution_count": 4,
     "metadata": {},
     "output_type": "execute_result"
    }
   ],
   "source": [
    "df_test['Sentiment'].value_counts()\n",
    "\n",
    "# Convert Sentiment to numerical values\n",
    "df_test['Sentiment_numerical'] = df_test['Sentiment'].map({\n",
    "    'Extremely Negative':0, \n",
    "    'Negative':0, \n",
    "    'Neutral':1, \n",
    "    'Positive':2, \n",
    "    'Extremely Positive':2\n",
    "})\n",
    "\n",
    "df_train['Sentiment_numerical'] = df_train['Sentiment'].map({\n",
    "    'Extremely Negative':0, \n",
    "    'Negative':0, \n",
    "    'Neutral':1, \n",
    "    'Positive':2, \n",
    "    'Extremely Positive':2\n",
    "})\n",
    "\n",
    "df_test.head(5)"
   ]
  },
  {
   "cell_type": "code",
   "execution_count": 6,
   "metadata": {},
   "outputs": [
    {
     "data": {
      "text/plain": [
       "(array([0, 1, 2, 3, 4]),\n",
       " [Text(0, 0, 'Negative'),\n",
       "  Text(1, 0, 'Positive'),\n",
       "  Text(2, 0, 'Neutral'),\n",
       "  Text(3, 0, 'Extremely Positive'),\n",
       "  Text(4, 0, 'Extremely Negative')])"
      ]
     },
     "execution_count": 6,
     "metadata": {},
     "output_type": "execute_result"
    },
    {
     "data": {
      "image/png": "[encoded data removed]",
      "text/plain": [
       "<Figure size 640x480 with 1 Axes>"
      ]
     },
     "metadata": {},
     "output_type": "display_data"
    }
   ],
   "source": [
    "# Bar plot of the Sentiment\n",
    "import matplotlib.pyplot as plt\n",
    "sentiment_count = df_test['Sentiment'].value_counts()\n",
    "sentiment_count.plot(kind='bar')\n",
    "plt.title('Sentiment count')\n",
    "plt.xticks(rotation=45)"
   ]
  },
  {
   "cell_type": "code",
   "execution_count": 11,
   "metadata": {},
   "outputs": [],
   "source": [
    "# Preprocess\n",
    "lemma = WordNetLemmatizer()\n",
    "def preprocess(text):\n",
    "    # Remove links\n",
    "    text = re.sub(r'http\\S+', '', text)\n",
    "    \n",
    "    # Cleaning everything except alphabetical and numerical characters\n",
    "    pattern = r'[^a-zA-Z\\s]'\n",
    "    text = re.sub(pattern, '', text)\n",
    "    \n",
    "    # Lower text\n",
    "    text = text.lower()\n",
    "\n",
    " \n",
    "    # Tokenizing and lemmatizing\n",
    "    text = word_tokenize(text)\n",
    "    text = [lemma.lemmatize(word) for word in text]\n",
    "    \n",
    "    # Remove stopwords\n",
    "    stop_words = stopwords.words(\"english\")\n",
    "    \n",
    "    text = [word for word in text if word not in stop_words]\n",
    "   \n",
    "    # Joining\n",
    "    text = ' '.join(text)\n",
    "    \n",
    "    return text\n",
    "\n",
    "df_test['CleanedText'] = df_test.OriginalTweet.apply(preprocess) # apply to each string\n",
    "df_train['CleanedText'] = df_train.OriginalTweet.apply(preprocess) # apply to each string"
   ]
  },
  {
   "cell_type": "code",
   "execution_count": 12,
   "metadata": {},
   "outputs": [
    {
     "data": {
      "text/html": [
       "<div>\n",
       "<style scoped>\n",
       "    .dataframe tbody tr th:only-of-type {\n",
       "        vertical-align: middle;\n",
       "    }\n",
       "\n",
       "    .dataframe tbody tr th {\n",
       "        vertical-align: top;\n",
       "    }\n",
       "\n",
       "    .dataframe thead th {\n",
       "        text-align: right;\n",
       "    }\n",
       "</style>\n",
       "<table border=\"1\" class=\"dataframe\">\n",
       "  <thead>\n",
       "    <tr style=\"text-align: right;\">\n",
       "      <th></th>\n",
       "      <th>OriginalTweet</th>\n",
       "      <th>Sentiment</th>\n",
       "      <th>Sentiment_numerical</th>\n",
       "      <th>CleanedText</th>\n",
       "    </tr>\n",
       "  </thead>\n",
       "  <tbody>\n",
       "    <tr>\n",
       "      <th>0</th>\n",
       "      <td>@MeNyrbie @Phil_Gahan @Chrisitv https://t.co/i...</td>\n",
       "      <td>Neutral</td>\n",
       "      <td>1</td>\n",
       "      <td>menyrbie philgahan chrisitv</td>\n",
       "    </tr>\n",
       "    <tr>\n",
       "      <th>1</th>\n",
       "      <td>advice Talk to your neighbours family to excha...</td>\n",
       "      <td>Positive</td>\n",
       "      <td>2</td>\n",
       "      <td>advice talk neighbour family exchange phone nu...</td>\n",
       "    </tr>\n",
       "    <tr>\n",
       "      <th>2</th>\n",
       "      <td>Coronavirus Australia: Woolworths to give elde...</td>\n",
       "      <td>Positive</td>\n",
       "      <td>2</td>\n",
       "      <td>coronavirus australia woolworth give elderly d...</td>\n",
       "    </tr>\n",
       "    <tr>\n",
       "      <th>3</th>\n",
       "      <td>My food stock is not the only one which is emp...</td>\n",
       "      <td>Positive</td>\n",
       "      <td>2</td>\n",
       "      <td>food stock one empty please dont panic enough ...</td>\n",
       "    </tr>\n",
       "    <tr>\n",
       "      <th>4</th>\n",
       "      <td>Me, ready to go at supermarket during the #COV...</td>\n",
       "      <td>Extremely Negative</td>\n",
       "      <td>0</td>\n",
       "      <td>ready go supermarket covid outbreak im paranoi...</td>\n",
       "    </tr>\n",
       "  </tbody>\n",
       "</table>\n",
       "</div>"
      ],
      "text/plain": [
       "                                       OriginalTweet           Sentiment  \\\n",
       "0  @MeNyrbie @Phil_Gahan @Chrisitv https://t.co/i...             Neutral   \n",
       "1  advice Talk to your neighbours family to excha...            Positive   \n",
       "2  Coronavirus Australia: Woolworths to give elde...            Positive   \n",
       "3  My food stock is not the only one which is emp...            Positive   \n",
       "4  Me, ready to go at supermarket during the #COV...  Extremely Negative   \n",
       "\n",
       "   Sentiment_numerical                                        CleanedText  \n",
       "0                    1                        menyrbie philgahan chrisitv  \n",
       "1                    2  advice talk neighbour family exchange phone nu...  \n",
       "2                    2  coronavirus australia woolworth give elderly d...  \n",
       "3                    2  food stock one empty please dont panic enough ...  \n",
       "4                    0  ready go supermarket covid outbreak im paranoi...  "
      ]
     },
     "execution_count": 12,
     "metadata": {},
     "output_type": "execute_result"
    }
   ],
   "source": [
    "df_train.head() "
   ]
  },
  {
   "cell_type": "code",
   "execution_count": 13,
   "metadata": {},
   "outputs": [],
   "source": [
    "# Create bag of words\n",
    "from sklearn.feature_extraction.text import CountVectorizer\n",
    "vectorizer = CountVectorizer(max_features=5000)\n",
    "BOW_train = vectorizer.fit_transform(df_train.CleanedText).toarray()\n",
    "BOW_test = vectorizer.transform(df_test.CleanedText).toarray()\n"
   ]
  },
  {
   "cell_type": "code",
   "execution_count": 14,
   "metadata": {},
   "outputs": [
    {
     "name": "stdout",
     "output_type": "stream",
     "text": [
      "(41157, 5000)\n",
      "(3798, 5000)\n"
     ]
    }
   ],
   "source": [
    "# Split\n",
    "print(BOW_train.shape)\n",
    "print(BOW_test.shape)"
   ]
  },
  {
   "cell_type": "code",
   "execution_count": 86,
   "metadata": {},
   "outputs": [],
   "source": [
    "start_time = time()\n",
    "model = SVC(kernel='rbf')\n",
    "model.fit(BOW_train, df_train.Sentiment_numerical)\n",
    "end_time = time()\n",
    "print(f\"Training time: {end_time-start_time}\")"
   ]
  },
  {
   "cell_type": "code",
   "execution_count": 84,
   "metadata": {},
   "outputs": [
    {
     "name": "stdout",
     "output_type": "stream",
     "text": [
      "Train accuracy:  0.794102159031069\n"
     ]
    }
   ],
   "source": [
    "# Prediction and evaluation\n",
    "# Save the SVC model\n",
    "import joblib\n",
    "joblib.dump(model, '../out/textclass_rbf_svc.pkl')\n",
    "\n",
    "pred = model.predict(BOW_test)\n",
    "acc = accuracy_score(pred, df_test.Sentiment_numerical)\n",
    "print(\"Train accuracy: \", acc)"
   ]
  },
  {
   "cell_type": "code",
   "execution_count": null,
   "metadata": {},
   "outputs": [],
   "source": [
    "# Perform Grid Search\n",
    "param_grid = {\n",
    "    'C': [0.1, 1, 10, 100, 1000], \n",
    "    'gamma': [1, 0.1, 0.01, 0.001, 0.0001], \n",
    "    'kernel': ['rbf', 'poly', 'sigmoid']\n",
    "}\n",
    "\n",
    "# Set up the grid search"
   ]
  },
  {
   "cell_type": "code",
   "execution_count": 21,
   "metadata": {},
   "outputs": [
    {
     "name": "stdout",
     "output_type": "stream",
     "text": [
      "Test accuracy:  0.794102159031069\n",
      "              precision    recall  f1-score   support\n",
      "\n",
      "           0       0.81      0.79      0.80      1633\n",
      "           1       0.70      0.71      0.71       619\n",
      "           2       0.81      0.83      0.82      1546\n",
      "\n",
      "    accuracy                           0.79      3798\n",
      "   macro avg       0.78      0.78      0.78      3798\n",
      "weighted avg       0.79      0.79      0.79      3798\n",
      "\n"
     ]
    }
   ],
   "source": [
    "# Load the model\n",
    "model = joblib.load('../out/textclass_lin_svc.pkl')\n",
    "\n",
    "# Perform prediction\n",
    "pred = model.predict(BOW_test)\n",
    "acc = accuracy_score(pred, df_test.Sentiment_numerical)\n",
    "print(\"Test accuracy: \", acc)\n",
    "\n",
    "# Classification report\n",
    "print(classification_report(df_test.Sentiment_numerical, pred))"
   ]
  },
  {
   "cell_type": "code",
   "execution_count": 31,
   "metadata": {},
   "outputs": [
    {
     "data": {
      "text/plain": [
       "Text(0.5, 1.0, 'Confusion Matrix for SVC Linear')"
      ]
     },
     "execution_count": 31,
     "metadata": {},
     "output_type": "execute_result"
    },
    {
     "data": {
      "image/png": "[encoded data removed]",
      "text/plain": [
       "<Figure size 640x480 with 2 Axes>"
      ]
     },
     "metadata": {},
     "output_type": "display_data"
    }
   ],
   "source": [
    "# Confusion matrix\n",
    "cm = confusion_matrix(df_test.Sentiment_numerical, pred)\n",
    "sns.heatmap(cm, annot=True, fmt='d', cmap='Blues')\n",
    "plt.title('Confusion Matrix for SVC Linear')"
   ]
  },
  {
   "cell_type": "markdown",
   "metadata": {},
   "source": [
    "## Logistic Regression\n",
    "Let's see how good logistic regression is at classifying text."
   ]
  },
  {
   "cell_type": "code",
   "execution_count": 15,
   "metadata": {},
   "outputs": [],
   "source": [
    "# Logistic Regression to classify the data\n",
    "import torch\n",
    "from torch import nn\n",
    "import torch.optim as optim\n",
    "from torch.utils.data import DataLoader, TensorDataset\n",
    "from sklearn.model_selection import train_test_split\n",
    "from sklearn.preprocessing import StandardScaler\n",
    "import numpy as np\n",
    "\n",
    "# Create the model\n",
    "linear_regression = nn.Linear(5000, 3)\n",
    "loss_fn = nn.CrossEntropyLoss()\n",
    "optimizer = optim.Adam(linear_regression.parameters(), lr=0.01)\n",
    "\n",
    "# Split the data\n",
    "X_train, X_val, y_train, y_val = train_test_split(BOW_train, df_train.Sentiment_numerical, test_size=0.2, random_state=42)\n",
    "X_test, y_test = BOW_test, df_test.Sentiment_numerical\n",
    "\n",
    "# Convert to tensor\n",
    "scaler = StandardScaler()\n",
    "X_train = scaler.fit_transform(X_train)\n",
    "X_val = scaler.transform(X_val)\n",
    "X_test = scaler.transform(X_test)\n"
   ]
  },
  {
   "cell_type": "code",
   "execution_count": 24,
   "metadata": {},
   "outputs": [
    {
     "name": "stdout",
     "output_type": "stream",
     "text": [
      "Epoch: 0, Loss: 5.236230373382568, Acc: 0.8443610072135925\n",
      "Epoch: 10, Loss: 2.3022923469543457, Acc: 0.8407149314880371\n",
      "Epoch: 20, Loss: 1.9450938701629639, Acc: 0.8401750922203064\n",
      "Epoch: 30, Loss: 7.157704830169678, Acc: 0.8414305448532104\n",
      "Epoch: 40, Loss: 1.9326884746551514, Acc: 0.8414797186851501\n",
      "Epoch: 50, Loss: 7.62880277633667, Acc: 0.8409870266914368\n",
      "Epoch: 60, Loss: 9.390359878540039, Acc: 0.8428565263748169\n",
      "Epoch: 70, Loss: 2.7779219150543213, Acc: 0.8429601192474365\n",
      "Epoch: 80, Loss: 2.691084384918213, Acc: 0.841698408126831\n",
      "Epoch: 90, Loss: 1.9834293127059937, Acc: 0.8414619565010071\n",
      "Training time: 57.092649936676025\n"
     ]
    }
   ],
   "source": [
    "# Train the model\n",
    "epochs = 100\n",
    "batch_size = 64\n",
    "train_dataset = TensorDataset(torch.tensor(X_train).float(), torch.tensor(y_train.values).long())\n",
    "train_loader = DataLoader(train_dataset, batch_size=batch_size, shuffle=True)\n",
    "\n",
    "history = {\"train_acc\": [], \"train_loss\": [], \"val_loss\": [], \"val_acc\": []}\n",
    "start_time = time()\n",
    "for epoch in range(epochs):\n",
    "    acc, loss_ = 0, 0\n",
    "    for X_batch, y_batch in train_loader:\n",
    "        optimizer.zero_grad()\n",
    "        y_pred = linear_regression(X_batch)\n",
    "        acc += (y_pred.argmax(1) == y_batch).float().mean()\n",
    "        loss = loss_fn(y_pred, y_batch)\n",
    "        loss.backward()\n",
    "        optimizer.step()\n",
    "    if epoch % 10 == 0:\n",
    "        print(f\"Epoch: {epoch}, Loss: {loss.item()}, Acc: {acc / len(train_loader)}\")\n",
    "        \n",
    "    avg_acc = acc / len(train_loader)\n",
    "    history[\"train_acc\"].append(avg_acc)\n",
    "end_time = time()\n",
    "print(f\"Training time: {end_time-start_time}\")"
   ]
  },
  {
   "cell_type": "code",
   "execution_count": 32,
   "metadata": {},
   "outputs": [
    {
     "name": "stdout",
     "output_type": "stream",
     "text": [
      "Test accuracy:  tensor(0.7280)\n"
     ]
    },
    {
     "data": {
      "text/plain": [
       "Text(0.5, 1.0, 'Confusion matrix for Logistic Regression')"
      ]
     },
     "execution_count": 32,
     "metadata": {},
     "output_type": "execute_result"
    },
    {
     "data": {
      "image/png": "[encoded data removed]",
      "text/plain": [
       "<Figure size 640x480 with 2 Axes>"
      ]
     },
     "metadata": {},
     "output_type": "display_data"
    }
   ],
   "source": [
    "# Evaluate the model\n",
    "y_pred = linear_regression(torch.tensor(X_test).float())\n",
    "\n",
    "# Calculate the accuracy\n",
    "test_acc = (y_pred.argmax(1) == torch.tensor(y_test.values).long()).float().mean()\n",
    "print(\"Test accuracy: \", test_acc)\n",
    "\n",
    "# Save the model\n",
    "torch.save(linear_regression, '../out/textclass_logistic_regression.pth')\n",
    "\n",
    "# Confusion matrix\n",
    "c_matrix = confusion_matrix(y_test, y_pred.argmax(1).numpy())\n",
    "sns.heatmap(c_matrix, annot=True, fmt='d', cmap='Blues')\n",
    "plt.title('Confusion matrix for Logistic Regression')\n"
   ]
  },
  {
   "cell_type": "markdown",
   "metadata": {},
   "source": [
    "## Deep Neural Network\n",
    "What if we use a slightly more complex deep neural network"
   ]
  },
  {
   "cell_type": "code",
   "execution_count": 30,
   "metadata": {},
   "outputs": [
    {
     "name": "stdout",
     "output_type": "stream",
     "text": [
      "torch.Size([32925, 5000])\n",
      "torch.Size([32925]) tensor([0, 1, 2])\n"
     ]
    }
   ],
   "source": [
    "class DNN(nn.Module):\n",
    "    def __init__(self):\n",
    "        super(DNN, self).__init__()\n",
    "        self.fc1 = nn.Linear(5000, 128)\n",
    "        self.fc2 = nn.Linear(128, 64)\n",
    "        self.fc3 = nn.Linear(64, 3)\n",
    "        self.relu = nn.ReLU()\n",
    "        self.softmax = nn.Softmax(dim=1)\n",
    "    \n",
    "    def forward(self, x):\n",
    "        x = self.relu(self.fc1(x))\n",
    "        x = self.relu(self.fc2(x))\n",
    "        x = self.fc3(x)\n",
    "        return self.softmax(x)\n",
    "    \n",
    "# Create the model\n",
    "dnn = DNN()\n",
    "loss_fn = nn.CrossEntropyLoss()\n",
    "optimizer = optim.Adam(dnn.parameters(), lr=0.01)\n",
    "\n",
    "# Train the model\n",
    "epochs = 100\n",
    "batch_size = 64\n",
    "train_dataset = TensorDataset(torch.tensor(X_train).float(), torch.tensor(y_train.values).long())\n",
    "train_loader = DataLoader(train_dataset, batch_size=batch_size, shuffle=True)\n",
    "\n",
    "print(train_dataset.tensors[0].shape)\n",
    "print(train_dataset.tensors[1].shape, train_dataset.tensors[1].unique())"
   ]
  },
  {
   "cell_type": "code",
   "execution_count": null,
   "metadata": {},
   "outputs": [],
   "source": [
    "history = {\"train_acc\": [], \"train_loss\": [], \"val_loss\": [], \"val_acc\": []}\n",
    "start_time = time()\n",
    "for epoch in range(epochs):\n",
    "    acc, loss_ = 0, 0\n",
    "    for X_batch, y_batch in train_loader:\n",
    "        optimizer.zero_grad()\n",
    "        y_pred = dnn(X_batch)\n",
    "        acc += (y_pred.argmax(1) == y_batch).float().mean()\n",
    "        loss = loss_fn(y_pred, y_batch)\n",
    "        loss.backward()\n",
    "        optimizer.step()\n",
    "    if epoch % 10 == 0:\n",
    "        print(f\"Epoch: {epoch}, Loss: {loss.item()}, Acc: {acc / len(train_loader)}\")\n",
    "        \n",
    "    avg_acc = acc / len(train_loader)\n",
    "    history[\"train_acc\"].append(avg_acc)\n"
   ]
  },
  {
   "cell_type": "markdown",
   "metadata": {},
   "source": [
    "Ok. So a MLP clearly does not work."
   ]
  },
  {
   "cell_type": "markdown",
   "metadata": {},
   "source": [
    "## LSTM\n",
    "Let's try a simple recurrent neural network with LSTM cells."
   ]
  },
  {
   "cell_type": "code",
   "execution_count": 58,
   "metadata": {},
   "outputs": [],
   "source": [
    "class SimpleLSTM(nn.Module):\n",
    "    def __init__(self):\n",
    "        super(SimpleLSTM, self).__init__()\n",
    "        self.lstm = nn.LSTM(5000, 128, batch_first=True, bidirectional=True)\n",
    "        self.lstm2 = nn.LSTM(128*2, 64, batch_first=True, bidirectional=True)\n",
    "        self.linear = nn.Linear(64*2, 3)\n",
    "        self.softmax = nn.Softmax(dim=1)\n",
    "    \n",
    "        \n",
    "    def forward(self, x):\n",
    "        x, _ = self.lstm(x)\n",
    "        x, _ = self.lstm2(x)\n",
    "        x = self.linear(x[:, -1, :])\n",
    "        return self.softmax(x)\n",
    "    \n",
    "# Create the model\n",
    "simple_lstm = SimpleLSTM()\n",
    "loss_fn = nn.CrossEntropyLoss()\n",
    "optimizer = optim.Adam(simple_lstm.parameters(), lr=0.01)\n",
    "\n",
    "# Visualize the model using torchsummary\n",
    "from torchsummary import summary\n",
    "# summary(simple_lstm, (1, 5000))"
   ]
  },
  {
   "cell_type": "code",
   "execution_count": 59,
   "metadata": {},
   "outputs": [
    {
     "name": "stdout",
     "output_type": "stream",
     "text": [
      "mps\n",
      "Epoch: 0/100\n",
      "Train Loss: 0.9040521959656651, Train Acc: 0.6338812112808228\n",
      "Val Loss: 0.8798848658800125, Val Acc: 0.6572916507720947\n",
      "Epoch: 10/100\n",
      "Train Loss: 0.6355549921109839, Train Acc: 0.9146289825439453\n",
      "Val Loss: 0.8716861913601558, Val Acc: 0.6743608117103577\n",
      "Epoch: 20/100\n",
      "Train Loss: 0.6352913620402512, Train Acc: 0.9145202040672302\n",
      "Val Loss: 0.8761391341686249, Val Acc: 0.6697916388511658\n",
      "Epoch: 30/100\n",
      "Train Loss: 0.6287788620272886, Train Acc: 0.9214857816696167\n",
      "Val Loss: 0.8755092988411586, Val Acc: 0.6725615859031677\n",
      "Epoch: 40/100\n",
      "Train Loss: 0.6113787828139888, Train Acc: 0.9396541118621826\n",
      "Val Loss: 0.8744650095701217, Val Acc: 0.6714962124824524\n",
      "Epoch: 50/100\n",
      "Train Loss: 0.6198401767073326, Train Acc: 0.9308429956436157\n",
      "Val Loss: 0.8944665710131328, Val Acc: 0.6532670259475708\n",
      "Epoch: 60/100\n",
      "Train Loss: 0.6178516712003541, Train Acc: 0.9325242638587952\n",
      "Val Loss: 0.8923355559508006, Val Acc: 0.6561790108680725\n",
      "Epoch: 70/100\n",
      "Train Loss: 0.616072891638117, Train Acc: 0.9346292018890381\n",
      "Val Loss: 0.8862572818994522, Val Acc: 0.6606770753860474\n",
      "Epoch: 80/100\n",
      "Train Loss: 0.6138343674465291, Train Acc: 0.9366986155509949\n",
      "Val Loss: 0.8860613783200582, Val Acc: 0.6628788113594055\n",
      "Epoch: 90/100\n",
      "Train Loss: 0.6149609531013711, Train Acc: 0.9358668923377991\n",
      "Val Loss: 0.8827529569466909, Val Acc: 0.6636126637458801\n",
      "Training time: 853.5395529270172\n"
     ]
    }
   ],
   "source": [
    "# Train the model\n",
    "epochs = 100\n",
    "batch_size = 64\n",
    "train_dataset = TensorDataset(torch.tensor(X_train).float(), torch.tensor(y_train.values).long())\n",
    "train_loader = DataLoader(train_dataset, batch_size=batch_size, shuffle=True)\n",
    "test_dataset = TensorDataset(torch.tensor(X_test).float(), torch.tensor(y_test.values).long())\n",
    "test_loader = DataLoader(test_dataset, batch_size=batch_size, shuffle=True)\n",
    "\n",
    "# M1 chip device using mps\n",
    "device = \"cpu\"\n",
    "if torch.backends.mps.is_available():\n",
    "    device = torch.device(\"mps\")\n",
    "elif torch.cuda.is_available():\n",
    "    device = \"cuda\"\n",
    "else:\n",
    "    device = \"cpu\"\n",
    "    \n",
    "print(device)\n",
    "    \n",
    "history = {\"train_acc\": [], \"train_loss\": [], \"val_loss\": [], \"val_acc\": []}\n",
    "start_time = time()\n",
    "for epoch in range(epochs):\n",
    "    acc, loss_ = 0, 0\n",
    "    val_acc, val_loss_ = 0, 0\n",
    "    simple_lstm.train()\n",
    "    for X_batch, y_batch in train_loader:\n",
    "        optimizer.zero_grad()\n",
    "        y_pred = simple_lstm(X_batch.unsqueeze(1))\n",
    "        acc += (y_pred.argmax(1) == y_batch).float().mean()\n",
    "        loss = loss_fn(y_pred, y_batch)\n",
    "        loss_ += loss.item()\n",
    "        loss.backward()\n",
    "        optimizer.step()\n",
    "    \n",
    "    simple_lstm.eval()\n",
    "    for X_batch, y_batch in test_loader:\n",
    "        y_pred = simple_lstm(X_batch.unsqueeze(1))\n",
    "        val_acc += (y_pred.argmax(1) == y_batch).float().mean()\n",
    "        val_loss = loss_fn(y_pred, y_batch)\n",
    "        val_loss_ += val_loss.item()\n",
    "        \n",
    "    avg_acc = acc / len(train_loader)\n",
    "    avg_loss = loss_ / len(train_loader)\n",
    "    avg_val_acc = val_acc / len(test_loader)\n",
    "    avg_val_loss = val_loss_ / len(test_loader)\n",
    "    history[\"train_acc\"].append(avg_acc)\n",
    "    history[\"train_loss\"].append(avg_loss)\n",
    "      \n",
    "    if epoch % 10 == 0:\n",
    "        print(f\"Epoch: {epoch}/{epochs}\")\n",
    "        print(f\"Train Loss: {avg_loss}, Train Acc: {avg_acc}\")\n",
    "        print(f\"Val Loss: {avg_val_loss}, Val Acc: {avg_val_acc}\")\n",
    "\n",
    "end_time = time()\n",
    "print(f\"Training time: {end_time-start_time}\")  \n",
    "    "
   ]
  },
  {
   "cell_type": "code",
   "execution_count": 47,
   "metadata": {},
   "outputs": [
    {
     "name": "stdout",
     "output_type": "stream",
     "text": [
      "Test accuracy:  tensor(0.6564)\n"
     ]
    },
    {
     "data": {
      "text/plain": [
       "Text(0.5, 1.0, 'Confusion matrix for Simple LSTM')"
      ]
     },
     "execution_count": 47,
     "metadata": {},
     "output_type": "execute_result"
    },
    {
     "data": {
      "image/png": "[encoded data removed]",
      "text/plain": [
       "<Figure size 640x480 with 2 Axes>"
      ]
     },
     "metadata": {},
     "output_type": "display_data"
    }
   ],
   "source": [
    "# Evaluate the model\n",
    "simple_lstm.eval()\n",
    "y_pred = simple_lstm(torch.tensor(X_test).float().unsqueeze(1))\n",
    "\n",
    "# Calculate the accuracy\n",
    "test_acc = (y_pred.argmax(1) == torch.tensor(y_test.values).long()).float().mean()\n",
    "print(\"Test accuracy: \", test_acc)\n",
    "\n",
    "# Save the model\n",
    "torch.save(simple_lstm, '../out/textclass_simple_lstm.pth')\n",
    "\n",
    "# Confusion matrix\n",
    "c_matrix = confusion_matrix(y_test, y_pred.argmax(1).numpy())\n",
    "sns.heatmap(c_matrix, annot=True, fmt='d', cmap='Blues')\n",
    "plt.title('Confusion matrix for Simple LSTM')"
   ]
  }
 ],
 "metadata": {
  "kernelspec": {
   "display_name": "py38",
   "language": "python",
   "name": "python3"
  },
  "language_info": {
   "codemirror_mode": {
    "name": "ipython",
    "version": 3
   },
   "file_extension": ".py",
   "mimetype": "text/x-python",
   "name": "python",
   "nbconvert_exporter": "python",
   "pygments_lexer": "ipython3",
   "version": "3.8.18"
  }
 },
 "nbformat": 4,
 "nbformat_minor": 2
}
